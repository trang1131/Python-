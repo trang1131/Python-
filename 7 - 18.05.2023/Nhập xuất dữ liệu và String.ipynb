{
 "cells": [
  {
   "cell_type": "markdown",
   "id": "7ac14915",
   "metadata": {},
   "source": [
    "# Nhập xuất dữ liệu và String\n",
    "## Cách nhập xuất dữ liệu"
   ]
  },
  {
   "cell_type": "markdown",
   "id": "0f202ae8",
   "metadata": {},
   "source": [
    "### Xuất dữ liệu ra màn hình\n",
    "Để in các nội dung mà chúng ta mong muốn ra màn hình, ta sử dụng lệnh print()"
   ]
  },
  {
   "cell_type": "code",
   "execution_count": null,
   "id": "a6d3f260",
   "metadata": {},
   "outputs": [],
   "source": [
    "# Ví dụ: In ra nội dung \"python is very easy\"\n"
   ]
  },
  {
   "cell_type": "markdown",
   "id": "7733925a",
   "metadata": {},
   "source": [
    "### Các cách custom với lệnh print"
   ]
  },
  {
   "cell_type": "markdown",
   "id": "292ab570",
   "metadata": {},
   "source": [
    "Để in một nội dung kèm theo giá trị của biến, ta có các cách sau:"
   ]
  },
  {
   "cell_type": "code",
   "execution_count": 42,
   "id": "20ff912c",
   "metadata": {},
   "outputs": [],
   "source": [
    "food_1 = \"cookie\"\n",
    "food_2 = \"sandwich\""
   ]
  },
  {
   "cell_type": "code",
   "execution_count": 14,
   "id": "6407a448",
   "metadata": {},
   "outputs": [
    {
     "name": "stdout",
     "output_type": "stream",
     "text": [
      "I love you and I have you\n"
     ]
    }
   ],
   "source": [
    "# In trực tiếp\n",
    "print(\"I love you and I have you\")"
   ]
  },
  {
   "cell_type": "code",
   "execution_count": 43,
   "id": "27d098b8",
   "metadata": {},
   "outputs": [
    {
     "name": "stdout",
     "output_type": "stream",
     "text": [
      "I love cookie and I hate sandwich\n",
      "I love cookie and I love sandwich too, ahihi ♥ love love\n"
     ]
    }
   ],
   "source": [
    "# In bằng cách ghép các nội dung với nhau\n",
    "print(\"I love\", food_1, \"and I hate\", food_2)\n",
    "print(\"I love \"+ food_1 + \" and I love \" + food_2 + \" too, ahihi ♥ love love\" )"
   ]
  },
  {
   "cell_type": "code",
   "execution_count": 44,
   "id": "717666f2",
   "metadata": {},
   "outputs": [
    {
     "name": "stdout",
     "output_type": "stream",
     "text": [
      "I love cookie and I love sandwich too\n"
     ]
    }
   ],
   "source": [
    "# Sử dụng String Format - start with print(f\"\"), f stand for format\n",
    "print(f\"I love {food_1} and I love {food_2} too\")"
   ]
  },
  {
   "cell_type": "code",
   "execution_count": 45,
   "id": "c7276e05",
   "metadata": {},
   "outputs": [
    {
     "name": "stdout",
     "output_type": "stream",
     "text": [
      "I love cookie\n"
     ]
    }
   ],
   "source": [
    "# Sử dụng nhiều lệnh print, sửa xuống dòng của print python bằng cách thêm , end=\"\"\n",
    "print(\"I love \", end=\"\")\n",
    "print(food_1)"
   ]
  },
  {
   "cell_type": "markdown",
   "id": "e10788fb",
   "metadata": {},
   "source": [
    "### Nhập dữ liệu\n",
    "Để nhập dữ liệu vào chương trình python, chúng ta sử dụng hàm input()"
   ]
  },
  {
   "cell_type": "code",
   "execution_count": 54,
   "id": "b8b8afd3",
   "metadata": {},
   "outputs": [
    {
     "name": "stdout",
     "output_type": "stream",
     "text": [
      "Please input your name: Trang 123\n",
      "Trang 123\n",
      "<class 'str'>\n"
     ]
    }
   ],
   "source": [
    "name = input(\"Please input your name: \")# đối với hàm input, thì các dữ liệu được enter vào đều là tring cả bất kể có nhập số\n",
    "Vì vậy nếu muuốn string biến thành 1 con số, thêm hàm int ở phia trước. \n",
    "print(name)\n",
    "print(type(name))"
   ]
  },
  {
   "cell_type": "code",
   "execution_count": 56,
   "id": "0a2b8b27",
   "metadata": {},
   "outputs": [
    {
     "name": "stdout",
     "output_type": "stream",
     "text": [
      "please input a number:12\n",
      "12\n",
      "<class 'int'>\n"
     ]
    }
   ],
   "source": [
    "# Cách đổi string thành 1 con số nguyên thì thêm int, muốn là số thập phân thì thêm float\n",
    "number = int(input(\"please input a number:\"))\n",
    "print(number)\n",
    "print(type(number))"
   ]
  },
  {
   "cell_type": "code",
   "execution_count": null,
   "id": "ae8cec8f",
   "metadata": {},
   "outputs": [],
   "source": []
  },
  {
   "cell_type": "markdown",
   "id": "337f9c15",
   "metadata": {},
   "source": [
    "#### Thực hành: Viết chương trình nhập vào chiều dài và chiều rộng của hình chữ nhật, sau đó in ra chu vi và diện tích của hình chữ nhật đó"
   ]
  },
  {
   "cell_type": "code",
   "execution_count": 4,
   "id": "add68103",
   "metadata": {},
   "outputs": [
    {
     "name": "stdout",
     "output_type": "stream",
     "text": [
      "Nhập chiều dài hình chữ nhât: 100\n",
      "Nhập chiều rộng hình chữ nhật: 50\n"
     ]
    }
   ],
   "source": [
    "# Nhập các kích thước của hình chữ nhật\n",
    "chieu_dai = int(input(\"Nhập chiều dài hình chữ nhât: \"))\n",
    "chieu_rong = int(input(\"Nhập chiều rộng hình chữ nhật: \"))\n"
   ]
  },
  {
   "cell_type": "code",
   "execution_count": 11,
   "id": "7a1cd73e",
   "metadata": {},
   "outputs": [],
   "source": [
    "chu_vi = (chieu_dai + chieu_rong)*2\n",
    "dien_tich = chieu_dai * chieu_rong\n"
   ]
  },
  {
   "cell_type": "code",
   "execution_count": 20,
   "id": "d0adf735",
   "metadata": {},
   "outputs": [
    {
     "name": "stdout",
     "output_type": "stream",
     "text": [
      "Chu vi hình chữ nhật 300 Diện tích hình chữ nhật 5000\n",
      "chu vi là 300 diện tich là 5000\n",
      "chu vi là 300 diện tích là 5000"
     ]
    }
   ],
   "source": [
    "# In kết quả ra màn hình bằng 3 cách\n",
    "print(\"Chu vi hình chữ nhật\" ,chu_vi , \"Diện tích hình chữ nhật\",dien_tich)\n",
    "print(f\"chu vi là {chu_vi} diện tich là {dien_tich}\")\n",
    "print(\"chu vi là \",end=\"\")\n",
    "print(chu_vi, end=\" \")\n",
    "print(\"diện tích là \", end=\"\")\n",
    "print(dien_tich,end=\"\")"
   ]
  },
  {
   "cell_type": "markdown",
   "id": "fb54cb77",
   "metadata": {},
   "source": [
    "#### Thực hành: Viết chương trình nhập vào số đo cạnh và mã màu của tam giác đều, sau đó sử dụng turtle để vẽ ra hình tam giác có số đo và màu tương ứng"
   ]
  },
  {
   "cell_type": "code",
   "execution_count": null,
   "id": "7583b308",
   "metadata": {},
   "outputs": [],
   "source": []
  },
  {
   "cell_type": "markdown",
   "id": "fa7cb208",
   "metadata": {},
   "source": [
    "## Cú pháp import"
   ]
  },
  {
   "cell_type": "markdown",
   "id": "ab2a2ea5",
   "metadata": {},
   "source": [
    "Để sử dụng một module từ bên ngoài, chúng ta sẽ sử dụng từ khóa import. Sau đây là ví dụ về một số cách import phổ biến."
   ]
  },
  {
   "cell_type": "markdown",
   "id": "bd6de377",
   "metadata": {},
   "source": [
    "### Random một giá trị ngẫu nhiên"
   ]
  },
  {
   "cell_type": "code",
   "execution_count": null,
   "id": "ce5547f5",
   "metadata": {},
   "outputs": [],
   "source": []
  },
  {
   "cell_type": "markdown",
   "id": "dfa93dc0",
   "metadata": {},
   "source": [
    "### Thực hiện các phép toán số học"
   ]
  },
  {
   "cell_type": "code",
   "execution_count": 8,
   "id": "4f06f722",
   "metadata": {},
   "outputs": [],
   "source": [
    "# import toàn bộ module"
   ]
  },
  {
   "cell_type": "code",
   "execution_count": null,
   "id": "6b9e471b",
   "metadata": {},
   "outputs": [],
   "source": [
    "# import một phần trong module"
   ]
  },
  {
   "cell_type": "markdown",
   "id": "391969e7",
   "metadata": {},
   "source": [
    "## Xử lý String trong python"
   ]
  },
  {
   "cell_type": "markdown",
   "id": "ab461669",
   "metadata": {},
   "source": [
    "### String là gì?\n",
    "String là một chuỗi gồm các ký tự Unicode"
   ]
  },
  {
   "cell_type": "markdown",
   "id": "94a27b90",
   "metadata": {},
   "source": [
    "### Khởi tạo một string"
   ]
  },
  {
   "cell_type": "code",
   "execution_count": 22,
   "id": "b14f4fcc",
   "metadata": {},
   "outputs": [],
   "source": [
    "# one-line string\n",
    "course_name =\"Python Fundamental\"\n"
   ]
  },
  {
   "cell_type": "code",
   "execution_count": 24,
   "id": "9cc506a7",
   "metadata": {},
   "outputs": [],
   "source": [
    "# multi-line string\n",
    "lesson_content = \"\"\"không biết kết thúc bài học này tui có thể:\n",
    "- biết cách 1\n",
    "- biết cách 2\n",
    "- biết cách 3\n",
    "\"\"\""
   ]
  },
  {
   "cell_type": "markdown",
   "id": "8f4270fd",
   "metadata": {},
   "source": [
    "### Các thao tác phổ biến với string"
   ]
  },
  {
   "cell_type": "code",
   "execution_count": 25,
   "id": "c825f890",
   "metadata": {},
   "outputs": [
    {
     "name": "stdout",
     "output_type": "stream",
     "text": [
      "18\n"
     ]
    }
   ],
   "source": [
    "# Kiểm tra độ dài string\n",
    "course_name =\"Python Fundamental\"\n",
    "print(len(course_name))"
   ]
  },
  {
   "cell_type": "code",
   "execution_count": 27,
   "id": "6de96621",
   "metadata": {},
   "outputs": [
    {
     "name": "stdout",
     "output_type": "stream",
     "text": [
      "o\n",
      "x\n"
     ]
    }
   ],
   "source": [
    "# Truy xuất ký tự bằng cơ chế indexing và reverse indexing\n",
    "working_calendar =\"xooxxoxxoxoxoxxxxxooo\"\n",
    "print(working_calendar[10])\n",
    "print(working_calendar[-10])"
   ]
  },
  {
   "cell_type": "markdown",
   "id": "a4f949d9",
   "metadata": {},
   "source": [
    "#### Thực hành: Viết chương trình nhập vào một chuỗi bất kỳ, sau đó in ra ký tự đầu tiên và ký tự cuối cùng của chuỗi đó."
   ]
  },
  {
   "cell_type": "code",
   "execution_count": 32,
   "id": "14833f18",
   "metadata": {},
   "outputs": [
    {
     "name": "stdout",
     "output_type": "stream",
     "text": [
      "V\n",
      "ó\n"
     ]
    }
   ],
   "source": [
    "thuc_hanh = \"Viết chương trình nhập vào một chuỗi bất kỳ, sau đó in ra ký tự đầu tiên và ký tự cuối cùng của chuỗi đó\"\n",
    "print(thuc_hanh[0])\n",
    "print(thuc_hanh[-1])"
   ]
  },
  {
   "cell_type": "code",
   "execution_count": 51,
   "id": "9aad2f16",
   "metadata": {},
   "outputs": [
    {
     "name": "stdout",
     "output_type": "stream",
     "text": [
      "chương\n",
      "gnơưhc tếiV\n"
     ]
    }
   ],
   "source": [
    "# Cắt string theo index\n",
    "# default: start = ), end có giá trị là độ dài của len, nên nêu lấy cuối chuỗi thì hk cần điền end\n",
    "thuc_hanh = \"Viết chương\"\n",
    "print(thuc_hanh[5:11])\n",
    "print(thuc_hanh[::-1]) # đảo ngươc chuỗi"
   ]
  },
  {
   "cell_type": "code",
   "execution_count": 57,
   "id": "6ec63f90",
   "metadata": {},
   "outputs": [
    {
     "name": "stdout",
     "output_type": "stream",
     "text": [
      "hithere\n",
      "hihihi\n",
      "hitherehitherehithere\n"
     ]
    }
   ],
   "source": [
    "# Ghép chuỗi và lặp chuỗi\n",
    "a=\"hi\"\n",
    "b=\"there\"\n",
    "print(a + b)\n",
    "print(a*3)\n",
    "print((a+b)*3)"
   ]
  },
  {
   "cell_type": "markdown",
   "id": "84c2dcb9",
   "metadata": {},
   "source": [
    "#### Thực hành: Xử lý và in ra các thông tin tương ứng trong chuỗi"
   ]
  },
  {
   "cell_type": "code",
   "execution_count": null,
   "id": "cd71f135",
   "metadata": {},
   "outputs": [],
   "source": []
  },
  {
   "cell_type": "markdown",
   "id": "7cbd965f",
   "metadata": {},
   "source": [
    "### Các hàm thông dụng khi xử lý string"
   ]
  },
  {
   "cell_type": "code",
   "execution_count": 1,
   "id": "eb5932a1",
   "metadata": {},
   "outputs": [
    {
     "name": "stdout",
     "output_type": "stream",
     "text": [
      "5\n"
     ]
    }
   ],
   "source": [
    "# len\n",
    "content = \"Trang\"\n",
    "print(len(content))"
   ]
  },
  {
   "cell_type": "code",
   "execution_count": 5,
   "id": "6bef6d33",
   "metadata": {},
   "outputs": [
    {
     "name": "stdout",
     "output_type": "stream",
     "text": [
      "1\n"
     ]
    }
   ],
   "source": [
    "# count\n",
    "content = \"Trang\"\n",
    "print(content.count(\"ng\"))"
   ]
  },
  {
   "cell_type": "code",
   "execution_count": 9,
   "id": "1582bbd8",
   "metadata": {},
   "outputs": [
    {
     "name": "stdout",
     "output_type": "stream",
     "text": [
      "TRANG\n",
      "trang\n",
      "Trang\n"
     ]
    }
   ],
   "source": [
    "# upper, lower\n",
    "content=\"Trang\"\n",
    "print(content.upper())\n",
    "print(content.lower())\n",
    "print(content.capitalize())"
   ]
  },
  {
   "cell_type": "code",
   "execution_count": 29,
   "id": "0d08f708",
   "metadata": {},
   "outputs": [
    {
     "name": "stdout",
     "output_type": "stream",
     "text": [
      "Trang  ,,,,,  \n",
      "   Trang\n",
      "Trang  ,,,,,\n"
     ]
    }
   ],
   "source": [
    "# lstrip, rstrip, strip\n",
    "content = \"   Trang  ,,,,,  \"\n",
    "print(content.lstrip()) #loại bỏ khoảng cách bên trái\n",
    "print(content.rstrip(\", \")) #loaj bỏ khoảng cáhc bên phải\n",
    "print(content.strip())  #loại bỏ khoảng cách cả 2 bên\n",
    "# nếu có ký tự dư thừa, thì bỏ kì tự dư thừa vào \"\", nếu có cách thì bỏ cách zô truơcs hoặc sau ,"
   ]
  },
  {
   "cell_type": "code",
   "execution_count": 31,
   "id": "62180d52",
   "metadata": {},
   "outputs": [
    {
     "name": "stdout",
     "output_type": "stream",
     "text": [
      "['hello', 'everyone', 'how', 'r', 'you']\n"
     ]
    }
   ],
   "source": [
    "# split\n",
    "content = \"hello everyone how r you\"\n",
    "print(content.split())\n"
   ]
  },
  {
   "cell_type": "markdown",
   "id": "032ba1fc",
   "metadata": {},
   "source": []
  }
 ],
 "metadata": {
  "kernelspec": {
   "display_name": "Python 3 (ipykernel)",
   "language": "python",
   "name": "python3"
  },
  "language_info": {
   "codemirror_mode": {
    "name": "ipython",
    "version": 3
   },
   "file_extension": ".py",
   "mimetype": "text/x-python",
   "name": "python",
   "nbconvert_exporter": "python",
   "pygments_lexer": "ipython3",
   "version": "3.11.3"
  }
 },
 "nbformat": 4,
 "nbformat_minor": 5
}
